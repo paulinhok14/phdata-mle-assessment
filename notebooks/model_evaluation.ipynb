{
 "cells": [
  {
   "cell_type": "markdown",
   "id": "751d3f12",
   "metadata": {},
   "source": [
    "<img src=\"../phData.png\">"
   ]
  },
  {
   "cell_type": "markdown",
   "id": "8e0621c9",
   "metadata": {},
   "source": [
    "### 0 - Setup"
   ]
  },
  {
   "cell_type": "code",
   "execution_count": 11,
   "id": "19dc8dd9",
   "metadata": {},
   "outputs": [],
   "source": [
    "import pandas as pd\n",
    "import os, sys\n",
    "import numpy as np\n",
    "import json\n",
    "\n",
    "# Data Viz\n",
    "import matplotlib.pyplot as plt\n",
    "import seaborn as sns\n",
    "\n",
    "# ML\n",
    "import joblib\n",
    "from sklearn.metrics import mean_squared_error, mean_absolute_error, r2_score\n",
    "from sklearn.model_selection import train_test_split, cross_val_score, cross_val_predict\n",
    "\n",
    "# Adjusting relative paths (going up one level from the notebooks folder to the root)\n",
    "project_root = os.path.abspath(os.path.join(os.getcwd(), '..'))\n",
    "# Adding the root to sys.path to be able to import things like config.py\n",
    "sys.path.append(project_root)\n",
    "from api.config import DATA_PATH, MODELS_PATH, MODEL_REQUIRED_FEATURES, MAIN_ENDPOINT_INPUT_SCHEMA, SALES_DATA_COLUMNS, SALES_DATA_FEATURES\n",
    "\n",
    "# Data to load\n",
    "kc_sales_data_path = os.path.join(DATA_PATH, \"kc_house_data.csv\")\n",
    "demographic_data_path = os.path.join(DATA_PATH, \"zipcode_demographics.csv\")\n",
    "future_unseen_data = os.path.join(DATA_PATH, 'future_unseen_examples.csv')"
   ]
  },
  {
   "cell_type": "markdown",
   "id": "5b07d4c2",
   "metadata": {},
   "source": [
    "### 1- Model & Data Loading"
   ]
  },
  {
   "cell_type": "code",
   "execution_count": 12,
   "id": "23079eb3",
   "metadata": {},
   "outputs": [],
   "source": [
    "# Loading model\n",
    "model = joblib.load(os.path.join(MODELS_PATH, \"model.pkl\"))\n",
    "\n",
    "# Loading data\n",
    "kc_sales_data = pd.read_csv(kc_sales_data_path, usecols=SALES_DATA_COLUMNS, dtype={'zipcode': str})\n",
    "demographics_data = pd.read_csv(demographic_data_path, dtype={'zipcode': str})\n",
    "merged_data = kc_sales_data.merge(demographics_data, how='left', on='zipcode').drop(columns='zipcode')"
   ]
  },
  {
   "cell_type": "markdown",
   "id": "5cbf2fbf",
   "metadata": {},
   "source": [
    "#### Splitting"
   ]
  },
  {
   "cell_type": "code",
   "execution_count": null,
   "id": "74655c8f",
   "metadata": {},
   "outputs": [],
   "source": [
    "# Split X and y\n",
    "y = merged_data.pop('price')\n",
    "X = merged_data\n",
    "\n",
    "# Train-test split\n",
    "X_train, X_test, y_train, y_test = train_test_split(X, y, test_size=0.2, random_state=42)"
   ]
  },
  {
   "cell_type": "markdown",
   "id": "af2f3ce2",
   "metadata": {},
   "source": [
    "#### Predicting & Evaluating"
   ]
  },
  {
   "cell_type": "code",
   "execution_count": null,
   "id": "0cdcb8e1",
   "metadata": {},
   "outputs": [],
   "source": [
    "# Predict on train and test\n",
    "y_pred_train = model.predict(X_train)\n",
    "y_pred_test = model.predict(X_test)\n",
    "\n",
    "# Define metrics\n",
    "def evaluate(y_true, y_pred, dataset_name=''):\n",
    "    rmse = mean_squared_error(y_true, y_pred, squared=False)\n",
    "    mae = mean_absolute_error(y_true, y_pred)\n",
    "    r2 = r2_score(y_true, y_pred)\n",
    "    print(f\"\\n{dataset_name} Metrics:\")\n",
    "    print(f\"RMSE: {rmse:.2f}\")\n",
    "    print(f\"MAE:  {mae:.2f}\")\n",
    "    print(f\"R²:   {r2:.3f}\")\n",
    "    return rmse, mae, r2\n",
    "\n",
    "# Evaluate\n",
    "evaluate(y_train, y_pred_train, \"Train\")\n",
    "evaluate(y_test, y_pred_test, \"Test\")"
   ]
  },
  {
   "cell_type": "code",
   "execution_count": null,
   "id": "10e40d90",
   "metadata": {},
   "outputs": [],
   "source": [
    "# Residual plot\n",
    "plt.figure(figsize=(8,6))\n",
    "sns.residplot(x=y_pred_test, y=y_test - y_pred_test, lowess=True, color=\"purple\")\n",
    "plt.title(\"Residual Plot (Test Set)\")\n",
    "plt.xlabel(\"Predicted\")\n",
    "plt.ylabel(\"Residuals\")\n",
    "plt.grid(True)\n",
    "plt.show()"
   ]
  },
  {
   "cell_type": "code",
   "execution_count": null,
   "id": "1eaa72fd",
   "metadata": {},
   "outputs": [],
   "source": [
    "# Predicted vs Real\n",
    "plt.figure(figsize=(8,6))\n",
    "sns.scatterplot(x=y_test, y=y_pred_test, alpha=0.6)\n",
    "plt.plot([y_test.min(), y_test.max()], [y_test.min(), y_test.max()], 'r--')\n",
    "plt.xlabel(\"Actual\")\n",
    "plt.ylabel(\"Predicted\")\n",
    "plt.title(\"Predicted vs. Actual (Test Set)\")\n",
    "plt.grid(True)\n",
    "plt.show()"
   ]
  },
  {
   "cell_type": "code",
   "execution_count": null,
   "id": "43a658fe",
   "metadata": {},
   "outputs": [],
   "source": [
    "# Optional: Cross-validation\n",
    "cv_scores = cross_val_score(model, X, y, cv=5, scoring='r2')\n",
    "print(f\"Cross-validated R² scores: {cv_scores}\")\n",
    "print(f\"Mean CV R²: {cv_scores.mean():.3f}\")"
   ]
  }
 ],
 "metadata": {
  "kernelspec": {
   "display_name": "housing",
   "language": "python",
   "name": "python3"
  },
  "language_info": {
   "codemirror_mode": {
    "name": "ipython",
    "version": 3
   },
   "file_extension": ".py",
   "mimetype": "text/x-python",
   "name": "python",
   "nbconvert_exporter": "python",
   "pygments_lexer": "ipython3",
   "version": "3.9.23"
  }
 },
 "nbformat": 4,
 "nbformat_minor": 5
}
