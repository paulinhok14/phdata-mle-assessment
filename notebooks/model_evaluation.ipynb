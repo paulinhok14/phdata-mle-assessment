{
 "cells": [
  {
   "cell_type": "markdown",
   "id": "8e0621c9",
   "metadata": {},
   "source": [
    "### 0 - Setup"
   ]
  },
  {
   "cell_type": "code",
   "execution_count": null,
   "id": "19dc8dd9",
   "metadata": {
    "vscode": {
     "languageId": "plaintext"
    }
   },
   "outputs": [],
   "source": [
    "import pandas as pd \n",
    "import numpy as np"
   ]
  },
  {
   "cell_type": "markdown",
   "id": "5b07d4c2",
   "metadata": {},
   "source": [
    "### 1- Data Loading"
   ]
  },
  {
   "cell_type": "code",
   "execution_count": null,
   "id": "23079eb3",
   "metadata": {
    "vscode": {
     "languageId": "plaintext"
    }
   },
   "outputs": [],
   "source": []
  }
 ],
 "metadata": {
  "language_info": {
   "name": "python"
  }
 },
 "nbformat": 4,
 "nbformat_minor": 5
}
